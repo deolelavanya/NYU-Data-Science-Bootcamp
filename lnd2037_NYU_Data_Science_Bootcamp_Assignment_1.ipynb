{
  "nbformat": 4,
  "nbformat_minor": 0,
  "metadata": {
    "colab": {
      "provenance": []
    },
    "kernelspec": {
      "name": "python3",
      "display_name": "Python 3"
    },
    "language_info": {
      "name": "python"
    }
  },
  "cells": [
    {
      "cell_type": "markdown",
      "source": [
        "Name: Lavanya Deole\n",
        "\n",
        "Net ID: lnd2037\n",
        "\n",
        "Assignment 1\n"
      ],
      "metadata": {
        "id": "dJqyR0B-fMRs"
      }
    },
    {
      "cell_type": "markdown",
      "source": [
        "1.⁠ ⁠Display Fibonacci Series upto 10 terms"
      ],
      "metadata": {
        "id": "nwPEDIFr2jM4"
      }
    },
    {
      "cell_type": "code",
      "execution_count": 2,
      "metadata": {
        "colab": {
          "base_uri": "https://localhost:8080/"
        },
        "id": "_vEI56s62h9Q",
        "outputId": "71340ea1-3861-4168-d236-55aa44c4865d"
      },
      "outputs": [
        {
          "output_type": "stream",
          "name": "stdout",
          "text": [
            "Fibonacci Series (10 terms): [0, 1, 1, 2, 3, 5, 8, 13, 21, 34]\n"
          ]
        }
      ],
      "source": [
        "def fibonacci(n):\n",
        "    fib_series = [0, 1]\n",
        "    for i in range(2, n):\n",
        "        fib_series.append(fib_series[-1] + fib_series[-2])\n",
        "    return fib_series\n",
        "\n",
        "\n",
        "print(\"Fibonacci Series (10 terms):\", fibonacci(10))"
      ]
    },
    {
      "cell_type": "markdown",
      "source": [
        "2.⁠ ⁠Display numbers at the odd indices of a list"
      ],
      "metadata": {
        "id": "gZj4Vic73CkX"
      }
    },
    {
      "cell_type": "code",
      "source": [
        "def odd_index_elements(lst):\n",
        "    return [lst[i] for i in range(1, len(lst), 2)]\n",
        "\n",
        "sample_list = [10, 20, 30, 40, 50, 60, 70, 80]\n",
        "print(\"Elements at odd indices:\", odd_index_elements(sample_list))"
      ],
      "metadata": {
        "colab": {
          "base_uri": "https://localhost:8080/"
        },
        "id": "6R2vVWkA3DPW",
        "outputId": "c8902511-2e82-4bf4-8a8e-69455bf25518"
      },
      "execution_count": 3,
      "outputs": [
        {
          "output_type": "stream",
          "name": "stdout",
          "text": [
            "Elements at odd indices: [20, 40, 60, 80]\n"
          ]
        }
      ]
    },
    {
      "cell_type": "markdown",
      "source": [
        "3.⁠ ⁠⁠string = \"\"\"\n",
        "\n",
        "I have provided this text to provide tips on creating interesting paragraphs.\n",
        "\n",
        "First, start with a clear topic sentence that introduces the main idea.\n",
        "\n",
        "Then, support the topic sentence with specific details, examples, and evidence.\n",
        "\n",
        "Vary the sentence length and structure to keep the reader engaged.\n",
        "\n",
        "Finally, end with a strong concluding sentence that summarizes the main points.\n",
        "\n",
        "Remember, practice makes perfect!\n",
        "\n",
        "\"\"\"\n",
        "\n",
        "#Your task is to count the number of different words in this text"
      ],
      "metadata": {
        "id": "gfk8EpAX3NXE"
      }
    },
    {
      "cell_type": "code",
      "source": [
        "def count_unique_words(text):\n",
        "    words = text.lower().replace(\",\", \"\").replace(\".\", \"\").split()\n",
        "    return len(set(words))\n",
        "\n",
        "string = \"\"\"\n",
        "\n",
        "I have provided this text to provide tips on creating interesting paragraphs.\n",
        "\n",
        "First, start with a clear topic sentence that introduces the main idea.\n",
        "\n",
        "Then, support the topic sentence with specific details, examples, and evidence.\n",
        "\n",
        "Vary the sentence length and structure to keep the reader engaged.\n",
        "\n",
        "Finally, end with a strong concluding sentence that summarizes the main points.\n",
        "\n",
        "Remember, practice makes perfect!\n",
        "\n",
        "\"\"\"\n",
        "\n",
        "print(\"Number of unique words:\", count_unique_words(string))"
      ],
      "metadata": {
        "colab": {
          "base_uri": "https://localhost:8080/"
        },
        "id": "MppOk04q3Noy",
        "outputId": "06d8047f-ebb6-475d-e5a3-573db821b8fe"
      },
      "execution_count": 5,
      "outputs": [
        {
          "output_type": "stream",
          "name": "stdout",
          "text": [
            "Number of unique words: 47\n"
          ]
        }
      ]
    },
    {
      "cell_type": "markdown",
      "source": [
        "4.⁠ ⁠Write a function count_vowels(word) that takes a word as an argument and returns the number of vowels in the word"
      ],
      "metadata": {
        "id": "xbW3umrh3Z8h"
      }
    },
    {
      "cell_type": "code",
      "source": [
        "def count_vowels(word):\n",
        "    vowels = \"aeiouAEIOU\"\n",
        "    return sum(1 for char in word if char in vowels)\n",
        "\n",
        "print(\"Vowel count in 'elephant':\", count_vowels(\"elephant\"))\n"
      ],
      "metadata": {
        "colab": {
          "base_uri": "https://localhost:8080/"
        },
        "id": "HZLGM-MhAPeb",
        "outputId": "d7a1df6e-caf1-4e76-e404-b09d460a6e60"
      },
      "execution_count": 1,
      "outputs": [
        {
          "output_type": "stream",
          "name": "stdout",
          "text": [
            "Vowel count in 'elephant': 3\n"
          ]
        }
      ]
    },
    {
      "cell_type": "markdown",
      "source": [
        "5.⁠ ⁠Iterate through the following list of animals and print each one in all caps.\n",
        "\n",
        "animals=['tiger', 'elephant', 'monkey', 'zebra', 'panther']"
      ],
      "metadata": {
        "id": "ujj-rWwbAYFk"
      }
    },
    {
      "cell_type": "code",
      "source": [
        "animals = ['tiger', 'elephant', 'monkey', 'zebra', 'panther']\n",
        "print(\"Animals in uppercase:\", [animal.upper() for animal in animals])"
      ],
      "metadata": {
        "colab": {
          "base_uri": "https://localhost:8080/"
        },
        "id": "Y3kpjaHUAYRU",
        "outputId": "b7c795d4-1b3c-4dce-e4d3-12f7938bc4c7"
      },
      "execution_count": 2,
      "outputs": [
        {
          "output_type": "stream",
          "name": "stdout",
          "text": [
            "Animals in uppercase: ['TIGER', 'ELEPHANT', 'MONKEY', 'ZEBRA', 'PANTHER']\n"
          ]
        }
      ]
    },
    {
      "cell_type": "markdown",
      "source": [
        "6.⁠ ⁠Write a program that iterates from 1 to 20, printing each number and whether it's odd or even."
      ],
      "metadata": {
        "id": "DzLMxprnBh_J"
      }
    },
    {
      "cell_type": "code",
      "source": [
        "for num in range(1, 21):\n",
        "    print(f\"{num} is {'even' if num % 2 == 0 else 'odd'}\")"
      ],
      "metadata": {
        "colab": {
          "base_uri": "https://localhost:8080/"
        },
        "id": "4H5MZ3mQBiQT",
        "outputId": "70857052-4ac0-4a56-f058-f5c8923ac553"
      },
      "execution_count": 3,
      "outputs": [
        {
          "output_type": "stream",
          "name": "stdout",
          "text": [
            "1 is odd\n",
            "2 is even\n",
            "3 is odd\n",
            "4 is even\n",
            "5 is odd\n",
            "6 is even\n",
            "7 is odd\n",
            "8 is even\n",
            "9 is odd\n",
            "10 is even\n",
            "11 is odd\n",
            "12 is even\n",
            "13 is odd\n",
            "14 is even\n",
            "15 is odd\n",
            "16 is even\n",
            "17 is odd\n",
            "18 is even\n",
            "19 is odd\n",
            "20 is even\n"
          ]
        }
      ]
    },
    {
      "cell_type": "markdown",
      "source": [
        "7.⁠ ⁠Write a function sum_of_integers(a, b) that takes two integers as input from the user and returns their sum."
      ],
      "metadata": {
        "id": "DzLCnZ8jBqMO"
      }
    },
    {
      "cell_type": "code",
      "source": [
        "def sum_of_integers(a, b):\n",
        "    return a + b\n",
        "\n",
        "a, b = 10, 29\n",
        "print(f\"Sum of {a} and {b} is:\", sum_of_integers(a, b))"
      ],
      "metadata": {
        "colab": {
          "base_uri": "https://localhost:8080/"
        },
        "id": "KhELUreaBvZ-",
        "outputId": "9bc3fbfe-bc76-4e39-9a87-e6fee2f1be55"
      },
      "execution_count": 5,
      "outputs": [
        {
          "output_type": "stream",
          "name": "stdout",
          "text": [
            "Sum of 10 and 29 is: 39\n"
          ]
        }
      ]
    },
    {
      "cell_type": "code",
      "source": [
        "def sum_of_integers(a, b):\n",
        "    return a + b\n",
        "\n",
        "# Taking user input\n",
        "a = int(input(\"Enter the first integer: \"))\n",
        "b = int(input(\"Enter the second integer: \"))\n",
        "\n",
        "print(f\"Sum of {a} and {b} is:\", sum_of_integers(a, b))"
      ],
      "metadata": {
        "colab": {
          "base_uri": "https://localhost:8080/"
        },
        "id": "KTPb3mI8edMm",
        "outputId": "ec83cd48-5ce5-478f-9364-c0e028e31de0"
      },
      "execution_count": 1,
      "outputs": [
        {
          "output_type": "stream",
          "name": "stdout",
          "text": [
            "Enter the first integer: 10\n",
            "Enter the second integer: 20\n",
            "Sum of 10 and 20 is: 30\n"
          ]
        }
      ]
    }
  ]
}