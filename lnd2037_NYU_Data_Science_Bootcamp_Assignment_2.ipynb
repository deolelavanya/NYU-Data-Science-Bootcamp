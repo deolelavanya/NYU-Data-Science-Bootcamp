{
  "nbformat": 4,
  "nbformat_minor": 0,
  "metadata": {
    "colab": {
      "provenance": []
    },
    "kernelspec": {
      "name": "python3",
      "display_name": "Python 3"
    },
    "language_info": {
      "name": "python"
    }
  },
  "cells": [
    {
      "cell_type": "markdown",
      "source": [
        "Name: Lavanya Deole\n",
        "\n",
        "Net ID: lnd2037\n",
        "\n",
        "Assignment 2"
      ],
      "metadata": {
        "id": "RmUM2ZFQOmy3"
      }
    },
    {
      "cell_type": "markdown",
      "source": [
        "Part 1 - Numpy"
      ],
      "metadata": {
        "id": "amCqUdLGO2jY"
      }
    },
    {
      "cell_type": "code",
      "execution_count": 1,
      "metadata": {
        "id": "4dk-1fIoOlbv"
      },
      "outputs": [],
      "source": [
        "import numpy as np"
      ]
    },
    {
      "cell_type": "markdown",
      "source": [
        "Loading the dataset"
      ],
      "metadata": {
        "id": "FGBRAsOmP67h"
      }
    },
    {
      "cell_type": "code",
      "source": [
        "url = \"https://archive.ics.uci.edu/ml/machine-learning-databases/iris/iris.data\"\n",
        "iris_2d = np.genfromtxt(url, delimiter=',', dtype='float', usecols=[0,1,2,3])"
      ],
      "metadata": {
        "id": "_MMl-NZ4P7cC"
      },
      "execution_count": 2,
      "outputs": []
    },
    {
      "cell_type": "markdown",
      "source": [
        "1.⁠ ⁠Define two custom numpy arrays, say A and B. Generate two new numpy arrays by stacking A and B vertically and horizontally."
      ],
      "metadata": {
        "id": "mmogpY_BQH9n"
      }
    },
    {
      "cell_type": "code",
      "source": [
        "A = np.array([[1, 2, 3], [4, 5, 6]])\n",
        "B = np.array([[7, 8, 9], [10, 11, 12]])"
      ],
      "metadata": {
        "id": "aKM6gAYrQN3l"
      },
      "execution_count": 3,
      "outputs": []
    },
    {
      "cell_type": "code",
      "source": [
        "vertical_stack = np.vstack((A, B))"
      ],
      "metadata": {
        "id": "wn9F_x8ZQlvl"
      },
      "execution_count": 5,
      "outputs": []
    },
    {
      "cell_type": "code",
      "source": [
        "horizontal_stack = np.hstack((A, B))"
      ],
      "metadata": {
        "id": "QcIoLD-mQuZT"
      },
      "execution_count": 7,
      "outputs": []
    },
    {
      "cell_type": "code",
      "source": [
        "print(\"Vertical Stack:\\n\", vertical_stack)\n",
        "print(\"Horizontal Stack:\\n\", horizontal_stack)"
      ],
      "metadata": {
        "colab": {
          "base_uri": "https://localhost:8080/"
        },
        "id": "Oo45RMuSQ7jH",
        "outputId": "c8f7432e-8556-4376-d1c9-1983b842355d"
      },
      "execution_count": 8,
      "outputs": [
        {
          "output_type": "stream",
          "name": "stdout",
          "text": [
            "Vertical Stack:\n",
            " [[ 1  2  3]\n",
            " [ 4  5  6]\n",
            " [ 7  8  9]\n",
            " [10 11 12]]\n",
            "Horizontal Stack:\n",
            " [[ 1  2  3  7  8  9]\n",
            " [ 4  5  6 10 11 12]]\n"
          ]
        }
      ]
    },
    {
      "cell_type": "markdown",
      "source": [
        "2.⁠ ⁠Find common elements between A and B. [Hint : Intersection of two sets]"
      ],
      "metadata": {
        "id": "_b6HloetRCOb"
      }
    },
    {
      "cell_type": "code",
      "source": [
        "common_elements = np.intersect1d(A, B)\n",
        "print(\"Common elements:\", common_elements)"
      ],
      "metadata": {
        "colab": {
          "base_uri": "https://localhost:8080/"
        },
        "id": "HxXzBt3kQ7fq",
        "outputId": "b8bc4750-2efd-440d-c4f6-e1eaf14180ba"
      },
      "execution_count": 9,
      "outputs": [
        {
          "output_type": "stream",
          "name": "stdout",
          "text": [
            "Common elements: []\n"
          ]
        }
      ]
    },
    {
      "cell_type": "markdown",
      "source": [
        "3.⁠ ⁠Extract all numbers from A which are within a specific range. eg between 5 and 10. [Hint: np.where() might be useful or boolean masks]"
      ],
      "metadata": {
        "id": "8LhmOXsFRjTb"
      }
    },
    {
      "cell_type": "code",
      "source": [
        "filtered_A = A[(A >= 5) & (A <= 10)]\n",
        "print(\"Numbers in A between 5 and 10:\", filtered_A)"
      ],
      "metadata": {
        "colab": {
          "base_uri": "https://localhost:8080/"
        },
        "id": "0nO_ixX_Q7dS",
        "outputId": "bc393abc-1f2e-4f8e-cc15-e67e02b778ef"
      },
      "execution_count": 10,
      "outputs": [
        {
          "output_type": "stream",
          "name": "stdout",
          "text": [
            "Numbers in A between 5 and 10: [5 6]\n"
          ]
        }
      ]
    },
    {
      "cell_type": "markdown",
      "source": [
        "4.⁠ ⁠Filter the rows of iris_2d that has petallength (3rd column) > 1.5 and sepallength (1st column) < 5.0"
      ],
      "metadata": {
        "id": "HveEP0ApRwcw"
      }
    },
    {
      "cell_type": "code",
      "source": [
        "filtered_iris = iris_2d[(iris_2d[:, 2] > 1.5) & (iris_2d[:, 0] < 5.0)]\n",
        "print(\"Filtered iris_2d rows:\\n\", filtered_iris)"
      ],
      "metadata": {
        "colab": {
          "base_uri": "https://localhost:8080/"
        },
        "id": "9VyU0i8MQ7a4",
        "outputId": "b3f0869c-bd45-40f2-d771-c6370e4b0b58"
      },
      "execution_count": 11,
      "outputs": [
        {
          "output_type": "stream",
          "name": "stdout",
          "text": [
            "Filtered iris_2d rows:\n",
            " [[4.8 3.4 1.6 0.2]\n",
            " [4.8 3.4 1.9 0.2]\n",
            " [4.7 3.2 1.6 0.2]\n",
            " [4.8 3.1 1.6 0.2]\n",
            " [4.9 2.4 3.3 1. ]\n",
            " [4.9 2.5 4.5 1.7]]\n"
          ]
        }
      ]
    },
    {
      "cell_type": "markdown",
      "source": [
        "Part 2 - Pandas"
      ],
      "metadata": {
        "id": "cy8jucinSbCS"
      }
    },
    {
      "cell_type": "code",
      "source": [
        "import pandas as pd"
      ],
      "metadata": {
        "id": "Zu3_IgcTSsk1"
      },
      "execution_count": 12,
      "outputs": []
    },
    {
      "cell_type": "markdown",
      "source": [
        "Loading the dataset"
      ],
      "metadata": {
        "id": "Vusv1fBjTl9B"
      }
    },
    {
      "cell_type": "code",
      "source": [
        "df = pd.read_csv(\"https://raw.githubusercontent.com/selva86/datasets/master/Cars93_miss.csv\")"
      ],
      "metadata": {
        "id": "c9VvvzUqTplS"
      },
      "execution_count": 15,
      "outputs": []
    },
    {
      "cell_type": "markdown",
      "source": [
        "1.⁠ ⁠From df filter the 'Manufacturer', 'Model' and 'Type' for every 20th row starting from 1st (row 0).\n",
        "\n",
        "df = pd.read_csv('https://raw.githubusercontent.com/selva86/datasets/master/Cars93_miss.csv')"
      ],
      "metadata": {
        "id": "-GM-PIetSlx6"
      }
    },
    {
      "cell_type": "code",
      "source": [
        "filtered_df = df.iloc[::20, [0, 1, 2]]  # Selecting specific columns by index\n",
        "print(\"Filtered rows every 20th row:\\n\", filtered_df)"
      ],
      "metadata": {
        "colab": {
          "base_uri": "https://localhost:8080/"
        },
        "id": "PXL0UE_JQ65m",
        "outputId": "82255978-59fc-499f-d1ad-741c944572cf"
      },
      "execution_count": 16,
      "outputs": [
        {
          "output_type": "stream",
          "name": "stdout",
          "text": [
            "Filtered rows every 20th row:\n",
            "    Manufacturer    Model     Type\n",
            "0         Acura  Integra    Small\n",
            "20     Chrysler  LeBaron  Compact\n",
            "40        Honda  Prelude   Sporty\n",
            "60      Mercury   Cougar  Midsize\n",
            "80       Subaru   Loyale    Small\n"
          ]
        }
      ]
    },
    {
      "cell_type": "markdown",
      "source": [
        "2.⁠ ⁠Replace missing values in Min.Price and Max.Price columns with their respective mean.\n",
        "\n",
        "df = pd.read_csv('https://raw.githubusercontent.com/selva86/datasets/master/Cars93_miss.csv')"
      ],
      "metadata": {
        "id": "gC6F4vFnS2MT"
      }
    },
    {
      "cell_type": "code",
      "source": [
        "min_price_mean = df[\"Min.Price\"].mean()\n",
        "max_price_mean = df[\"Max.Price\"].mean()\n",
        "df = df.copy()\n",
        "df[\"Min.Price\"] = df[\"Min.Price\"].fillna(min_price_mean)\n",
        "df[\"Max.Price\"] = df[\"Max.Price\"].fillna(max_price_mean)\n",
        "print(\"Min.Price mean:\", min_price_mean)\n",
        "print(\"Max.Price mean:\", max_price_mean)\n",
        "print(\"Updated DataFrame with missing values replaced:\\n\", df.head())"
      ],
      "metadata": {
        "colab": {
          "base_uri": "https://localhost:8080/"
        },
        "id": "nk95tSKHS7vd",
        "outputId": "6f021897-d305-41d0-d3e3-a3f15e1349d2"
      },
      "execution_count": 18,
      "outputs": [
        {
          "output_type": "stream",
          "name": "stdout",
          "text": [
            "Min.Price mean: 17.11860465116279\n",
            "Max.Price mean: 21.45909090909091\n",
            "Updated DataFrame with missing values replaced:\n",
            "   Manufacturer    Model     Type  Min.Price  Price  Max.Price  MPG.city  \\\n",
            "0        Acura  Integra    Small  12.900000   15.9  18.800000      25.0   \n",
            "1          NaN   Legend  Midsize  29.200000   33.9  38.700000      18.0   \n",
            "2         Audi       90  Compact  25.900000   29.1  32.300000      20.0   \n",
            "3         Audi      100  Midsize  17.118605   37.7  44.600000      19.0   \n",
            "4          BMW     535i  Midsize  17.118605   30.0  21.459091      22.0   \n",
            "\n",
            "   MPG.highway             AirBags DriveTrain  ... Passengers  Length  \\\n",
            "0         31.0                 NaN      Front  ...        5.0   177.0   \n",
            "1         25.0  Driver & Passenger      Front  ...        5.0   195.0   \n",
            "2         26.0         Driver only      Front  ...        5.0   180.0   \n",
            "3         26.0  Driver & Passenger        NaN  ...        6.0   193.0   \n",
            "4         30.0                 NaN       Rear  ...        4.0   186.0   \n",
            "\n",
            "   Wheelbase  Width  Turn.circle Rear.seat.room  Luggage.room  Weight  \\\n",
            "0      102.0   68.0         37.0           26.5           NaN  2705.0   \n",
            "1      115.0   71.0         38.0           30.0          15.0  3560.0   \n",
            "2      102.0   67.0         37.0           28.0          14.0  3375.0   \n",
            "3      106.0    NaN         37.0           31.0          17.0  3405.0   \n",
            "4      109.0   69.0         39.0           27.0          13.0  3640.0   \n",
            "\n",
            "    Origin           Make  \n",
            "0  non-USA  Acura Integra  \n",
            "1  non-USA   Acura Legend  \n",
            "2  non-USA        Audi 90  \n",
            "3  non-USA       Audi 100  \n",
            "4  non-USA       BMW 535i  \n",
            "\n",
            "[5 rows x 27 columns]\n"
          ]
        }
      ]
    },
    {
      "cell_type": "markdown",
      "source": [
        "3.⁠ ⁠How to get the rows of a dataframe with row sum > 100?\n",
        "\n",
        "df = pd.DataFrame(np.random.randint(10, 40, 60).reshape(-1, 4))"
      ],
      "metadata": {
        "id": "Y38XMkrGU5pX"
      }
    },
    {
      "cell_type": "code",
      "source": [
        "df_random = pd.DataFrame(np.random.randint(10, 40, 60).reshape(-1, 4))\n",
        "filtered_rows = df_random[df_random.sum(axis=1) > 100]\n",
        "print(\"Rows where sum > 100:\\n\", filtered_rows)"
      ],
      "metadata": {
        "colab": {
          "base_uri": "https://localhost:8080/"
        },
        "id": "zM-hddMxU9Gp",
        "outputId": "eb7ab622-a74c-4700-e635-83800f811ad2"
      },
      "execution_count": 19,
      "outputs": [
        {
          "output_type": "stream",
          "name": "stdout",
          "text": [
            "Rows where sum > 100:\n",
            "      0   1   2   3\n",
            "0   32  35  31  20\n",
            "2   38  34  18  23\n",
            "4   38  39  30  29\n",
            "7   38  35  36  26\n",
            "10  11  21  38  38\n",
            "11  20  35  39  14\n",
            "12  27  36  33  36\n",
            "14  38  33  26  13\n"
          ]
        }
      ]
    }
  ]
}